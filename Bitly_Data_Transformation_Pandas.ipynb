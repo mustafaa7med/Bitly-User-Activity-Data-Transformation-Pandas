{
  "nbformat": 4,
  "nbformat_minor": 0,
  "metadata": {
    "colab": {
      "provenance": []
    },
    "kernelspec": {
      "name": "python3",
      "display_name": "Python 3"
    },
    "language_info": {
      "name": "python"
    }
  },
  "cells": [
    {
      "cell_type": "markdown",
      "source": [
        "#**Bitly User Activity Data Transformation**\n",
        "Transforming Bitly User activity dataset into readable tabular data from `json` file to a `DataFrame` to a `CSV` eventually.\n",
        "\n",
        "###**Objective:**\n",
        "-  Data Transformation\n",
        "-  Data Cleansing\n",
        "\n",
        "###**Tech Stack:**\n",
        "- Python\n",
        "- Pandas ***Library***\n",
        "- json ***Library***\n",
        "\n",
        "###**Dataset:**\n",
        "- `usa.gov_click_data_1.json`\n",
        "\n",
        "***To download the dataset make sure to check the `dataset` folder in the `repository`***\n",
        "\n",
        "\n",
        "\n",
        "\n",
        "\n",
        "\n",
        "\n",
        "\n"
      ],
      "metadata": {
        "id": "jNZVFmK5StWA"
      }
    },
    {
      "cell_type": "markdown",
      "source": [
        "###**Dataset Description**\n",
        "\n",
        "\n",
        "|**key**| **description** |\n",
        "|---|-----------|\n",
        "| a|Denotes information about the web browser and operating system|\n",
        "| tz | time zone |\n",
        "| r | URL the user come from |\n",
        "| u | URL where the user headed to |\n",
        "| t | Timestamp when the user start using the website in UNIX format |\n",
        "| hc | Timestamp when user exit the website in UNIX format |\n",
        "| cy | City from which the request intiated |\n",
        "| ll | Longitude and Latitude |"
      ],
      "metadata": {
        "id": "sI_NScAeXzq7"
      }
    },
    {
      "cell_type": "markdown",
      "source": [
        "***Potentionally these are only the columns that a data transformation would be applied on***\n",
        "\n",
        "---\n",
        "\n",
        "\n",
        "\n"
      ],
      "metadata": {
        "id": "dZdRasX2V0zo"
      }
    },
    {
      "cell_type": "code",
      "execution_count": 1,
      "metadata": {
        "id": "Dm0A0xvakQ6b"
      },
      "outputs": [],
      "source": [
        "import json\n",
        "import pandas as pd"
      ]
    },
    {
      "cell_type": "code",
      "source": [
        "data = [json.loads(line) for line in open('usa.gov_click_data.json')]\n",
        "data[0] # Print the first occurance"
      ],
      "metadata": {
        "colab": {
          "base_uri": "https://localhost:8080/"
        },
        "id": "_ndD3sQxkcLL",
        "outputId": "7ac91bf5-af04-4c42-dd6d-a0278bf6abb1"
      },
      "execution_count": 2,
      "outputs": [
        {
          "output_type": "execute_result",
          "data": {
            "text/plain": [
              "{'a': 'Mozilla/5.0 (Windows NT 6.1; WOW64) AppleWebKit/535.11 (KHTML, like Gecko) Chrome/17.0.963.78 Safari/535.11',\n",
              " 'c': 'US',\n",
              " 'nk': 1,\n",
              " 'tz': 'America/New_York',\n",
              " 'gr': 'MA',\n",
              " 'g': 'A6qOVH',\n",
              " 'h': 'wfLQtf',\n",
              " 'l': 'orofrog',\n",
              " 'al': 'en-US,en;q=0.8',\n",
              " 'hh': '1.usa.gov',\n",
              " 'r': 'http://www.facebook.com/l/7AQEFzjSi/1.usa.gov/wfLQtf',\n",
              " 'u': 'http://www.ncbi.nlm.nih.gov/pubmed/22415991',\n",
              " 't': 1333307030,\n",
              " 'hc': 1333307037,\n",
              " 'cy': 'Danvers',\n",
              " 'll': [42.576698, -70.954903]}"
            ]
          },
          "metadata": {},
          "execution_count": 2
        }
      ]
    },
    {
      "cell_type": "code",
      "source": [
        "bitly = pd.DataFrame(data) #Converting json to a DataFrame\n",
        "bitly"
      ],
      "metadata": {
        "id": "n3_ICrAwk_g0",
        "colab": {
          "base_uri": "https://localhost:8080/",
          "height": 784
        },
        "outputId": "fd8a0e7a-8f6e-45f2-dc68-9eb3e0b22e6f"
      },
      "execution_count": 3,
      "outputs": [
        {
          "output_type": "execute_result",
          "data": {
            "text/plain": [
              "                                                    a     c  nk  \\\n",
              "0   Mozilla/5.0 (Windows NT 6.1; WOW64) AppleWebKi...    US   1   \n",
              "1                              GoogleMaps/RochesterNY    US   0   \n",
              "2   Mozilla/4.0 (Windows NT 6.1; MSIE 8.0; Windows...    US   1   \n",
              "3   Mozilla/5.0 (Macintosh; Intel Mac OS X 10_6_8)...    BR   0   \n",
              "4   Mozilla/5.0 (Windows NT 6.1; WOW64) AppleWebKi...    US   0   \n",
              "5   Mozilla/5.0 (Windows NT 6.1; WOW64) AppleWebKi...    US   0   \n",
              "6   Mozilla/5.0 (Windows NT 5.1) AppleWebKit/535.1...    PL   0   \n",
              "7   Mozilla/5.0 (Windows NT 6.1; rv:2.0.1) Gecko/2...  None   0   \n",
              "8   Opera/9.80 (Ubuntu 14.04.6; Linux zbov; U; en)...  None   0   \n",
              "9   Mozilla/5.0 (Windows NT 6.1; WOW64) AppleWebKi...  None   0   \n",
              "10  Mozilla/5.0 (Windows NT 6.1; WOW64; rv:10.0.2)...    US   1   \n",
              "11  Mozilla/5.0 (Macintosh; U; Intel Mac OS X 10.4...    US   0   \n",
              "\n",
              "                     tz   gr       g       h             l  \\\n",
              "0      America/New_York   MA  A6qOVH  wfLQtf       orofrog   \n",
              "1        America/Denver   UT  mwszkS  mwszkS         bitly   \n",
              "2      America/New_York   DC  xxr3Qb  xxr3Qb         bitly   \n",
              "3     America/Sao_Paulo   27  zCaLwp  zUtuOu      alelex88   \n",
              "4      America/New_York   MA  9b6kNl  9b6kNl         bitly   \n",
              "5      America/New_York   MA  axNK8c  axNK8c         bitly   \n",
              "6         Europe/Warsaw   77  wcndER  zkpJBR      bnjacobs   \n",
              "7                        NaN  wcndER  zkpJBR      bnjacobs   \n",
              "8                        NaN  wcndER  zkpJBR      bnjacobs   \n",
              "9                        NaN  zCaLwp  zUtuOu      alelex88   \n",
              "10  America/Los_Angeles   WA  vNJS4H  u0uD9q  o_4us71ccioa   \n",
              "11     America/New_York   DC  wG7OIH  A0nRz4   darrellissa   \n",
              "\n",
              "                                     al         hh  \\\n",
              "0                        en-US,en;q=0.8  1.usa.gov   \n",
              "1                                   NaN       j.mp   \n",
              "2                                 en-US  1.usa.gov   \n",
              "3                                 pt-br  1.usa.gov   \n",
              "4                        en-US,en;q=0.8     bit.ly   \n",
              "5                        en-US,en;q=0.8     bit.ly   \n",
              "6   pl-PL,pl;q=0.8,en-US;q=0.6,en;q=0.4  1.usa.gov   \n",
              "7               bg,en-us;q=0.7,en;q=0.3  1.usa.gov   \n",
              "8                             en-US, en  1.usa.gov   \n",
              "9   pt-BR,pt;q=0.8,en-US;q=0.6,en;q=0.4  1.usa.gov   \n",
              "10                       en-us,en;q=0.5  1.usa.gov   \n",
              "11                       en-us,en;q=0.5  1.usa.gov   \n",
              "\n",
              "                                                    r  \\\n",
              "0   http://www.facebook.com/l/7AQEFzjSi/1.usa.gov/...   \n",
              "1                            http://www.AwareMap.com/   \n",
              "2                                http://t.co/03elZC4Q   \n",
              "3                                              direct   \n",
              "4                 http://www.shrewsbury-ma.gov/selco/   \n",
              "5                 http://www.shrewsbury-ma.gov/selco/   \n",
              "6   http://plus.url.google.com/url?sa=z&n=13319232...   \n",
              "7                            http://www.facebook.com/   \n",
              "8   http://www.facebook.com/l.php?u=http%3A%2F%2F1...   \n",
              "9                                http://t.co/o1Pd0WeV   \n",
              "10                                             direct   \n",
              "11                               http://t.co/ND7SoPyo   \n",
              "\n",
              "                                                    u           t  \\\n",
              "0         http://www.ncbi.nlm.nih.gov/pubmed/22415991  1333307030   \n",
              "1         http://www.monroecounty.gov/etc/911/rss.php  1331923249   \n",
              "2   http://boxer.senate.gov/en/press/releases/0316...  1333407030   \n",
              "3             http://apod.nasa.gov/apod/ap120312.html  1333507030   \n",
              "4   http://www.shrewsbury-ma.gov/egov/gallery/1341...  1333607030   \n",
              "5   http://www.shrewsbury-ma.gov/egov/gallery/1341...  1333707030   \n",
              "6   http://www.nasa.gov/mission_pages/nustar/main/...  1333807030   \n",
              "7   http://www.nasa.gov/mission_pages/nustar/main/...  1334007036   \n",
              "8   http://www.nasa.gov/mission_pages/nustar/main/...  1333907030   \n",
              "9             http://apod.nasa.gov/apod/ap120312.html  1334007030   \n",
              "10  https://www.nysdot.gov/rexdesign/design/commun...  1334107030   \n",
              "11  http://oversight.house.gov/wp-content/uploads/...  1334207040   \n",
              "\n",
              "             hc          cy                        ll  \n",
              "0    1333307037     Danvers   [42.576698, -70.954903]  \n",
              "1    1308262393       Provo  [40.218102, -111.613297]  \n",
              "2    1333407035  Washington     [38.9007, -77.043098]  \n",
              "3    1333507044        Braz  [-23.549999, -46.616699]  \n",
              "4    1333607039  Shrewsbury   [42.286499, -71.714699]  \n",
              "5    1333707048  Shrewsbury   [42.286499, -71.714699]  \n",
              "6    1333807040       Luban      [51.116699, 15.2833]  \n",
              "7   13340070364         NaN                       NaN  \n",
              "8    1333907042         NaN                       NaN  \n",
              "9    1334007040         NaN                       NaN  \n",
              "10   1334107040     Seattle    [47.5951, -122.332603]  \n",
              "11   1334207043  Washington   [38.937599, -77.092796]  "
            ],
            "text/html": [
              "\n",
              "  <div id=\"df-c1c3057b-2d98-419f-9e75-e76f4dc57374\">\n",
              "    <div class=\"colab-df-container\">\n",
              "      <div>\n",
              "<style scoped>\n",
              "    .dataframe tbody tr th:only-of-type {\n",
              "        vertical-align: middle;\n",
              "    }\n",
              "\n",
              "    .dataframe tbody tr th {\n",
              "        vertical-align: top;\n",
              "    }\n",
              "\n",
              "    .dataframe thead th {\n",
              "        text-align: right;\n",
              "    }\n",
              "</style>\n",
              "<table border=\"1\" class=\"dataframe\">\n",
              "  <thead>\n",
              "    <tr style=\"text-align: right;\">\n",
              "      <th></th>\n",
              "      <th>a</th>\n",
              "      <th>c</th>\n",
              "      <th>nk</th>\n",
              "      <th>tz</th>\n",
              "      <th>gr</th>\n",
              "      <th>g</th>\n",
              "      <th>h</th>\n",
              "      <th>l</th>\n",
              "      <th>al</th>\n",
              "      <th>hh</th>\n",
              "      <th>r</th>\n",
              "      <th>u</th>\n",
              "      <th>t</th>\n",
              "      <th>hc</th>\n",
              "      <th>cy</th>\n",
              "      <th>ll</th>\n",
              "    </tr>\n",
              "  </thead>\n",
              "  <tbody>\n",
              "    <tr>\n",
              "      <th>0</th>\n",
              "      <td>Mozilla/5.0 (Windows NT 6.1; WOW64) AppleWebKi...</td>\n",
              "      <td>US</td>\n",
              "      <td>1</td>\n",
              "      <td>America/New_York</td>\n",
              "      <td>MA</td>\n",
              "      <td>A6qOVH</td>\n",
              "      <td>wfLQtf</td>\n",
              "      <td>orofrog</td>\n",
              "      <td>en-US,en;q=0.8</td>\n",
              "      <td>1.usa.gov</td>\n",
              "      <td>http://www.facebook.com/l/7AQEFzjSi/1.usa.gov/...</td>\n",
              "      <td>http://www.ncbi.nlm.nih.gov/pubmed/22415991</td>\n",
              "      <td>1333307030</td>\n",
              "      <td>1333307037</td>\n",
              "      <td>Danvers</td>\n",
              "      <td>[42.576698, -70.954903]</td>\n",
              "    </tr>\n",
              "    <tr>\n",
              "      <th>1</th>\n",
              "      <td>GoogleMaps/RochesterNY</td>\n",
              "      <td>US</td>\n",
              "      <td>0</td>\n",
              "      <td>America/Denver</td>\n",
              "      <td>UT</td>\n",
              "      <td>mwszkS</td>\n",
              "      <td>mwszkS</td>\n",
              "      <td>bitly</td>\n",
              "      <td>NaN</td>\n",
              "      <td>j.mp</td>\n",
              "      <td>http://www.AwareMap.com/</td>\n",
              "      <td>http://www.monroecounty.gov/etc/911/rss.php</td>\n",
              "      <td>1331923249</td>\n",
              "      <td>1308262393</td>\n",
              "      <td>Provo</td>\n",
              "      <td>[40.218102, -111.613297]</td>\n",
              "    </tr>\n",
              "    <tr>\n",
              "      <th>2</th>\n",
              "      <td>Mozilla/4.0 (Windows NT 6.1; MSIE 8.0; Windows...</td>\n",
              "      <td>US</td>\n",
              "      <td>1</td>\n",
              "      <td>America/New_York</td>\n",
              "      <td>DC</td>\n",
              "      <td>xxr3Qb</td>\n",
              "      <td>xxr3Qb</td>\n",
              "      <td>bitly</td>\n",
              "      <td>en-US</td>\n",
              "      <td>1.usa.gov</td>\n",
              "      <td>http://t.co/03elZC4Q</td>\n",
              "      <td>http://boxer.senate.gov/en/press/releases/0316...</td>\n",
              "      <td>1333407030</td>\n",
              "      <td>1333407035</td>\n",
              "      <td>Washington</td>\n",
              "      <td>[38.9007, -77.043098]</td>\n",
              "    </tr>\n",
              "    <tr>\n",
              "      <th>3</th>\n",
              "      <td>Mozilla/5.0 (Macintosh; Intel Mac OS X 10_6_8)...</td>\n",
              "      <td>BR</td>\n",
              "      <td>0</td>\n",
              "      <td>America/Sao_Paulo</td>\n",
              "      <td>27</td>\n",
              "      <td>zCaLwp</td>\n",
              "      <td>zUtuOu</td>\n",
              "      <td>alelex88</td>\n",
              "      <td>pt-br</td>\n",
              "      <td>1.usa.gov</td>\n",
              "      <td>direct</td>\n",
              "      <td>http://apod.nasa.gov/apod/ap120312.html</td>\n",
              "      <td>1333507030</td>\n",
              "      <td>1333507044</td>\n",
              "      <td>Braz</td>\n",
              "      <td>[-23.549999, -46.616699]</td>\n",
              "    </tr>\n",
              "    <tr>\n",
              "      <th>4</th>\n",
              "      <td>Mozilla/5.0 (Windows NT 6.1; WOW64) AppleWebKi...</td>\n",
              "      <td>US</td>\n",
              "      <td>0</td>\n",
              "      <td>America/New_York</td>\n",
              "      <td>MA</td>\n",
              "      <td>9b6kNl</td>\n",
              "      <td>9b6kNl</td>\n",
              "      <td>bitly</td>\n",
              "      <td>en-US,en;q=0.8</td>\n",
              "      <td>bit.ly</td>\n",
              "      <td>http://www.shrewsbury-ma.gov/selco/</td>\n",
              "      <td>http://www.shrewsbury-ma.gov/egov/gallery/1341...</td>\n",
              "      <td>1333607030</td>\n",
              "      <td>1333607039</td>\n",
              "      <td>Shrewsbury</td>\n",
              "      <td>[42.286499, -71.714699]</td>\n",
              "    </tr>\n",
              "    <tr>\n",
              "      <th>5</th>\n",
              "      <td>Mozilla/5.0 (Windows NT 6.1; WOW64) AppleWebKi...</td>\n",
              "      <td>US</td>\n",
              "      <td>0</td>\n",
              "      <td>America/New_York</td>\n",
              "      <td>MA</td>\n",
              "      <td>axNK8c</td>\n",
              "      <td>axNK8c</td>\n",
              "      <td>bitly</td>\n",
              "      <td>en-US,en;q=0.8</td>\n",
              "      <td>bit.ly</td>\n",
              "      <td>http://www.shrewsbury-ma.gov/selco/</td>\n",
              "      <td>http://www.shrewsbury-ma.gov/egov/gallery/1341...</td>\n",
              "      <td>1333707030</td>\n",
              "      <td>1333707048</td>\n",
              "      <td>Shrewsbury</td>\n",
              "      <td>[42.286499, -71.714699]</td>\n",
              "    </tr>\n",
              "    <tr>\n",
              "      <th>6</th>\n",
              "      <td>Mozilla/5.0 (Windows NT 5.1) AppleWebKit/535.1...</td>\n",
              "      <td>PL</td>\n",
              "      <td>0</td>\n",
              "      <td>Europe/Warsaw</td>\n",
              "      <td>77</td>\n",
              "      <td>wcndER</td>\n",
              "      <td>zkpJBR</td>\n",
              "      <td>bnjacobs</td>\n",
              "      <td>pl-PL,pl;q=0.8,en-US;q=0.6,en;q=0.4</td>\n",
              "      <td>1.usa.gov</td>\n",
              "      <td>http://plus.url.google.com/url?sa=z&amp;n=13319232...</td>\n",
              "      <td>http://www.nasa.gov/mission_pages/nustar/main/...</td>\n",
              "      <td>1333807030</td>\n",
              "      <td>1333807040</td>\n",
              "      <td>Luban</td>\n",
              "      <td>[51.116699, 15.2833]</td>\n",
              "    </tr>\n",
              "    <tr>\n",
              "      <th>7</th>\n",
              "      <td>Mozilla/5.0 (Windows NT 6.1; rv:2.0.1) Gecko/2...</td>\n",
              "      <td>None</td>\n",
              "      <td>0</td>\n",
              "      <td></td>\n",
              "      <td>NaN</td>\n",
              "      <td>wcndER</td>\n",
              "      <td>zkpJBR</td>\n",
              "      <td>bnjacobs</td>\n",
              "      <td>bg,en-us;q=0.7,en;q=0.3</td>\n",
              "      <td>1.usa.gov</td>\n",
              "      <td>http://www.facebook.com/</td>\n",
              "      <td>http://www.nasa.gov/mission_pages/nustar/main/...</td>\n",
              "      <td>1334007036</td>\n",
              "      <td>13340070364</td>\n",
              "      <td>NaN</td>\n",
              "      <td>NaN</td>\n",
              "    </tr>\n",
              "    <tr>\n",
              "      <th>8</th>\n",
              "      <td>Opera/9.80 (Ubuntu 14.04.6; Linux zbov; U; en)...</td>\n",
              "      <td>None</td>\n",
              "      <td>0</td>\n",
              "      <td></td>\n",
              "      <td>NaN</td>\n",
              "      <td>wcndER</td>\n",
              "      <td>zkpJBR</td>\n",
              "      <td>bnjacobs</td>\n",
              "      <td>en-US, en</td>\n",
              "      <td>1.usa.gov</td>\n",
              "      <td>http://www.facebook.com/l.php?u=http%3A%2F%2F1...</td>\n",
              "      <td>http://www.nasa.gov/mission_pages/nustar/main/...</td>\n",
              "      <td>1333907030</td>\n",
              "      <td>1333907042</td>\n",
              "      <td>NaN</td>\n",
              "      <td>NaN</td>\n",
              "    </tr>\n",
              "    <tr>\n",
              "      <th>9</th>\n",
              "      <td>Mozilla/5.0 (Windows NT 6.1; WOW64) AppleWebKi...</td>\n",
              "      <td>None</td>\n",
              "      <td>0</td>\n",
              "      <td></td>\n",
              "      <td>NaN</td>\n",
              "      <td>zCaLwp</td>\n",
              "      <td>zUtuOu</td>\n",
              "      <td>alelex88</td>\n",
              "      <td>pt-BR,pt;q=0.8,en-US;q=0.6,en;q=0.4</td>\n",
              "      <td>1.usa.gov</td>\n",
              "      <td>http://t.co/o1Pd0WeV</td>\n",
              "      <td>http://apod.nasa.gov/apod/ap120312.html</td>\n",
              "      <td>1334007030</td>\n",
              "      <td>1334007040</td>\n",
              "      <td>NaN</td>\n",
              "      <td>NaN</td>\n",
              "    </tr>\n",
              "    <tr>\n",
              "      <th>10</th>\n",
              "      <td>Mozilla/5.0 (Windows NT 6.1; WOW64; rv:10.0.2)...</td>\n",
              "      <td>US</td>\n",
              "      <td>1</td>\n",
              "      <td>America/Los_Angeles</td>\n",
              "      <td>WA</td>\n",
              "      <td>vNJS4H</td>\n",
              "      <td>u0uD9q</td>\n",
              "      <td>o_4us71ccioa</td>\n",
              "      <td>en-us,en;q=0.5</td>\n",
              "      <td>1.usa.gov</td>\n",
              "      <td>direct</td>\n",
              "      <td>https://www.nysdot.gov/rexdesign/design/commun...</td>\n",
              "      <td>1334107030</td>\n",
              "      <td>1334107040</td>\n",
              "      <td>Seattle</td>\n",
              "      <td>[47.5951, -122.332603]</td>\n",
              "    </tr>\n",
              "    <tr>\n",
              "      <th>11</th>\n",
              "      <td>Mozilla/5.0 (Macintosh; U; Intel Mac OS X 10.4...</td>\n",
              "      <td>US</td>\n",
              "      <td>0</td>\n",
              "      <td>America/New_York</td>\n",
              "      <td>DC</td>\n",
              "      <td>wG7OIH</td>\n",
              "      <td>A0nRz4</td>\n",
              "      <td>darrellissa</td>\n",
              "      <td>en-us,en;q=0.5</td>\n",
              "      <td>1.usa.gov</td>\n",
              "      <td>http://t.co/ND7SoPyo</td>\n",
              "      <td>http://oversight.house.gov/wp-content/uploads/...</td>\n",
              "      <td>1334207040</td>\n",
              "      <td>1334207043</td>\n",
              "      <td>Washington</td>\n",
              "      <td>[38.937599, -77.092796]</td>\n",
              "    </tr>\n",
              "  </tbody>\n",
              "</table>\n",
              "</div>\n",
              "      <button class=\"colab-df-convert\" onclick=\"convertToInteractive('df-c1c3057b-2d98-419f-9e75-e76f4dc57374')\"\n",
              "              title=\"Convert this dataframe to an interactive table.\"\n",
              "              style=\"display:none;\">\n",
              "        \n",
              "  <svg xmlns=\"http://www.w3.org/2000/svg\" height=\"24px\"viewBox=\"0 0 24 24\"\n",
              "       width=\"24px\">\n",
              "    <path d=\"M0 0h24v24H0V0z\" fill=\"none\"/>\n",
              "    <path d=\"M18.56 5.44l.94 2.06.94-2.06 2.06-.94-2.06-.94-.94-2.06-.94 2.06-2.06.94zm-11 1L8.5 8.5l.94-2.06 2.06-.94-2.06-.94L8.5 2.5l-.94 2.06-2.06.94zm10 10l.94 2.06.94-2.06 2.06-.94-2.06-.94-.94-2.06-.94 2.06-2.06.94z\"/><path d=\"M17.41 7.96l-1.37-1.37c-.4-.4-.92-.59-1.43-.59-.52 0-1.04.2-1.43.59L10.3 9.45l-7.72 7.72c-.78.78-.78 2.05 0 2.83L4 21.41c.39.39.9.59 1.41.59.51 0 1.02-.2 1.41-.59l7.78-7.78 2.81-2.81c.8-.78.8-2.07 0-2.86zM5.41 20L4 18.59l7.72-7.72 1.47 1.35L5.41 20z\"/>\n",
              "  </svg>\n",
              "      </button>\n",
              "      \n",
              "  <style>\n",
              "    .colab-df-container {\n",
              "      display:flex;\n",
              "      flex-wrap:wrap;\n",
              "      gap: 12px;\n",
              "    }\n",
              "\n",
              "    .colab-df-convert {\n",
              "      background-color: #E8F0FE;\n",
              "      border: none;\n",
              "      border-radius: 50%;\n",
              "      cursor: pointer;\n",
              "      display: none;\n",
              "      fill: #1967D2;\n",
              "      height: 32px;\n",
              "      padding: 0 0 0 0;\n",
              "      width: 32px;\n",
              "    }\n",
              "\n",
              "    .colab-df-convert:hover {\n",
              "      background-color: #E2EBFA;\n",
              "      box-shadow: 0px 1px 2px rgba(60, 64, 67, 0.3), 0px 1px 3px 1px rgba(60, 64, 67, 0.15);\n",
              "      fill: #174EA6;\n",
              "    }\n",
              "\n",
              "    [theme=dark] .colab-df-convert {\n",
              "      background-color: #3B4455;\n",
              "      fill: #D2E3FC;\n",
              "    }\n",
              "\n",
              "    [theme=dark] .colab-df-convert:hover {\n",
              "      background-color: #434B5C;\n",
              "      box-shadow: 0px 1px 3px 1px rgba(0, 0, 0, 0.15);\n",
              "      filter: drop-shadow(0px 1px 2px rgba(0, 0, 0, 0.3));\n",
              "      fill: #FFFFFF;\n",
              "    }\n",
              "  </style>\n",
              "\n",
              "      <script>\n",
              "        const buttonEl =\n",
              "          document.querySelector('#df-c1c3057b-2d98-419f-9e75-e76f4dc57374 button.colab-df-convert');\n",
              "        buttonEl.style.display =\n",
              "          google.colab.kernel.accessAllowed ? 'block' : 'none';\n",
              "\n",
              "        async function convertToInteractive(key) {\n",
              "          const element = document.querySelector('#df-c1c3057b-2d98-419f-9e75-e76f4dc57374');\n",
              "          const dataTable =\n",
              "            await google.colab.kernel.invokeFunction('convertToInteractive',\n",
              "                                                     [key], {});\n",
              "          if (!dataTable) return;\n",
              "\n",
              "          const docLinkHtml = 'Like what you see? Visit the ' +\n",
              "            '<a target=\"_blank\" href=https://colab.research.google.com/notebooks/data_table.ipynb>data table notebook</a>'\n",
              "            + ' to learn more about interactive tables.';\n",
              "          element.innerHTML = '';\n",
              "          dataTable['output_type'] = 'display_data';\n",
              "          await google.colab.output.renderOutput(dataTable, element);\n",
              "          const docLink = document.createElement('div');\n",
              "          docLink.innerHTML = docLinkHtml;\n",
              "          element.appendChild(docLink);\n",
              "        }\n",
              "      </script>\n",
              "    </div>\n",
              "  </div>\n",
              "  "
            ]
          },
          "metadata": {},
          "execution_count": 3
        }
      ]
    },
    {
      "cell_type": "markdown",
      "source": [
        "##**Extracting `browser` name into a new column**"
      ],
      "metadata": {
        "id": "QH0aXefV5FEn"
      }
    },
    {
      "cell_type": "code",
      "source": [
        "bitly['web_browser'] = bitly['a'].str.extract('([A-Za-z0-9]+)', expand=True) #Extracting browser name"
      ],
      "metadata": {
        "id": "GTNHDwl-E5s_"
      },
      "execution_count": 4,
      "outputs": []
    },
    {
      "cell_type": "code",
      "source": [
        "bitly['web_browser'] #validating the changes"
      ],
      "metadata": {
        "colab": {
          "base_uri": "https://localhost:8080/"
        },
        "id": "RGrngFLCe2xc",
        "outputId": "3b85217d-cf1e-455f-d2eb-4611fa97ca34"
      },
      "execution_count": 5,
      "outputs": [
        {
          "output_type": "execute_result",
          "data": {
            "text/plain": [
              "0        Mozilla\n",
              "1     GoogleMaps\n",
              "2        Mozilla\n",
              "3        Mozilla\n",
              "4        Mozilla\n",
              "5        Mozilla\n",
              "6        Mozilla\n",
              "7        Mozilla\n",
              "8          Opera\n",
              "9        Mozilla\n",
              "10       Mozilla\n",
              "11       Mozilla\n",
              "Name: web_browser, dtype: object"
            ]
          },
          "metadata": {},
          "execution_count": 5
        }
      ]
    },
    {
      "cell_type": "markdown",
      "source": [
        "##**Extracting `OS` name into a new column**"
      ],
      "metadata": {
        "id": "VNu_QJKs5Tt-"
      }
    },
    {
      "cell_type": "code",
      "source": [
        "bitly['operating_sys'] = bitly['a'].str.replace('([A-Za-z]+/[0-9]*\\.[0-9]+)','', regex=True) #Simplifying the sentense to extract from next"
      ],
      "metadata": {
        "id": "E1gPfOKtW8pK"
      },
      "execution_count": 6,
      "outputs": []
    },
    {
      "cell_type": "code",
      "source": [
        "bitly['operating_sys'] = bitly['operating_sys'].str.extract('([A-Za-z]+)', expand=True) #Extracting OS Name"
      ],
      "metadata": {
        "id": "H9A-D7XaW-bJ"
      },
      "execution_count": 7,
      "outputs": []
    },
    {
      "cell_type": "code",
      "source": [
        "bitly['operating_sys'] #validating the changes"
      ],
      "metadata": {
        "colab": {
          "base_uri": "https://localhost:8080/"
        },
        "id": "shQuTz6yc-28",
        "outputId": "d8b9b779-61ab-4e74-d7e9-afed578f389c"
      },
      "execution_count": 8,
      "outputs": [
        {
          "output_type": "execute_result",
          "data": {
            "text/plain": [
              "0        Windows\n",
              "1     GoogleMaps\n",
              "2        Windows\n",
              "3      Macintosh\n",
              "4        Windows\n",
              "5        Windows\n",
              "6        Windows\n",
              "7        Windows\n",
              "8         Ubuntu\n",
              "9        Windows\n",
              "10       Windows\n",
              "11     Macintosh\n",
              "Name: operating_sys, dtype: object"
            ]
          },
          "metadata": {},
          "execution_count": 8
        }
      ]
    },
    {
      "cell_type": "markdown",
      "source": [
        "##**Extracting `from url` into a new column**"
      ],
      "metadata": {
        "id": "faDFcq9m5iIE"
      }
    },
    {
      "cell_type": "code",
      "source": [
        "bitly['from_url'] = bitly['r'].str.replace('http://','') #Removing http://"
      ],
      "metadata": {
        "id": "OnX93aJGql8p"
      },
      "execution_count": 9,
      "outputs": []
    },
    {
      "cell_type": "code",
      "source": [
        "bitly['from_url'] = bitly['from_url'].str.replace('/+.*','', regex=True) #Removing anything after /"
      ],
      "metadata": {
        "id": "6TjrN949s8Ct"
      },
      "execution_count": 10,
      "outputs": []
    },
    {
      "cell_type": "code",
      "source": [
        "bitly['from_url'].head(12)"
      ],
      "metadata": {
        "colab": {
          "base_uri": "https://localhost:8080/"
        },
        "id": "3lL-SP71jLmU",
        "outputId": "d00f3370-7c14-4968-ce88-730904f22f67"
      },
      "execution_count": 11,
      "outputs": [
        {
          "output_type": "execute_result",
          "data": {
            "text/plain": [
              "0          www.facebook.com\n",
              "1          www.AwareMap.com\n",
              "2                      t.co\n",
              "3                    direct\n",
              "4     www.shrewsbury-ma.gov\n",
              "5     www.shrewsbury-ma.gov\n",
              "6       plus.url.google.com\n",
              "7          www.facebook.com\n",
              "8          www.facebook.com\n",
              "9                      t.co\n",
              "10                   direct\n",
              "11                     t.co\n",
              "Name: from_url, dtype: object"
            ]
          },
          "metadata": {},
          "execution_count": 11
        }
      ]
    },
    {
      "cell_type": "markdown",
      "source": [
        "##**Extracting `to url` into a new column**"
      ],
      "metadata": {
        "id": "kdlX5V7n51ua"
      }
    },
    {
      "cell_type": "code",
      "source": [
        "bitly['to_url'] = bitly['u'].str.replace('https?://','', regex=True) #Removing http://"
      ],
      "metadata": {
        "id": "SonQ67WJyCss"
      },
      "execution_count": 12,
      "outputs": []
    },
    {
      "cell_type": "code",
      "source": [
        "bitly['to_url'] = bitly['to_url'].str.replace('/+.*','', regex=True) #Removing anything after /"
      ],
      "metadata": {
        "id": "a7lP8KpPyC2g"
      },
      "execution_count": 13,
      "outputs": []
    },
    {
      "cell_type": "code",
      "source": [
        "bitly['to_url']"
      ],
      "metadata": {
        "colab": {
          "base_uri": "https://localhost:8080/"
        },
        "id": "pJ-VR45JyNKL",
        "outputId": "3c2a15de-3e65-46c1-bfd6-4ef0fb52e035"
      },
      "execution_count": 14,
      "outputs": [
        {
          "output_type": "execute_result",
          "data": {
            "text/plain": [
              "0      www.ncbi.nlm.nih.gov\n",
              "1      www.monroecounty.gov\n",
              "2          boxer.senate.gov\n",
              "3             apod.nasa.gov\n",
              "4     www.shrewsbury-ma.gov\n",
              "5     www.shrewsbury-ma.gov\n",
              "6              www.nasa.gov\n",
              "7              www.nasa.gov\n",
              "8              www.nasa.gov\n",
              "9             apod.nasa.gov\n",
              "10           www.nysdot.gov\n",
              "11      oversight.house.gov\n",
              "Name: to_url, dtype: object"
            ]
          },
          "metadata": {},
          "execution_count": 14
        }
      ]
    },
    {
      "cell_type": "markdown",
      "source": [
        "##**Copying `cy` and renaming the column to `city`**"
      ],
      "metadata": {
        "id": "BvY_6j8Zz-Oq"
      }
    },
    {
      "cell_type": "code",
      "source": [
        "bitly['city'] = bitly['cy'].copy() #Taking a copy of 'cy' column into a new name 'city'"
      ],
      "metadata": {
        "id": "NQ-0meJ5jPFN"
      },
      "execution_count": 15,
      "outputs": []
    },
    {
      "cell_type": "markdown",
      "source": [
        "##**Splitting column `ll` into `Latitude` and `Longitude`**"
      ],
      "metadata": {
        "id": "rfPTwyf70GH-"
      }
    },
    {
      "cell_type": "code",
      "source": [
        "bitly['ll'] #Viewing Latitude and Longitude data for a split in next line"
      ],
      "metadata": {
        "colab": {
          "base_uri": "https://localhost:8080/"
        },
        "id": "pw-Q7MF4Ubk4",
        "outputId": "fc81bce9-f72d-4423-dc81-708d9c3259a9"
      },
      "execution_count": 16,
      "outputs": [
        {
          "output_type": "execute_result",
          "data": {
            "text/plain": [
              "0      [42.576698, -70.954903]\n",
              "1     [40.218102, -111.613297]\n",
              "2        [38.9007, -77.043098]\n",
              "3     [-23.549999, -46.616699]\n",
              "4      [42.286499, -71.714699]\n",
              "5      [42.286499, -71.714699]\n",
              "6         [51.116699, 15.2833]\n",
              "7                          NaN\n",
              "8                          NaN\n",
              "9                          NaN\n",
              "10      [47.5951, -122.332603]\n",
              "11     [38.937599, -77.092796]\n",
              "Name: ll, dtype: object"
            ]
          },
          "metadata": {},
          "execution_count": 16
        }
      ]
    },
    {
      "cell_type": "code",
      "source": [
        "bitly['Latitude'] = bitly['ll'].str[0] #Extracting Latitude from 'll'\n",
        "bitly['longitude'] = bitly['ll'].str[1] #Extracting Longitude from 'll'"
      ],
      "metadata": {
        "id": "dpc_LUENS8za"
      },
      "execution_count": 17,
      "outputs": []
    },
    {
      "cell_type": "code",
      "source": [
        "bitly['Latitude'] #Verifying Latitude Output"
      ],
      "metadata": {
        "colab": {
          "base_uri": "https://localhost:8080/"
        },
        "id": "TfE0eZQA6c4-",
        "outputId": "9455c841-6176-4a83-f2fb-1ed3ad22cbd9"
      },
      "execution_count": 18,
      "outputs": [
        {
          "output_type": "execute_result",
          "data": {
            "text/plain": [
              "0     42.576698\n",
              "1     40.218102\n",
              "2     38.900700\n",
              "3    -23.549999\n",
              "4     42.286499\n",
              "5     42.286499\n",
              "6     51.116699\n",
              "7           NaN\n",
              "8           NaN\n",
              "9           NaN\n",
              "10    47.595100\n",
              "11    38.937599\n",
              "Name: Latitude, dtype: float64"
            ]
          },
          "metadata": {},
          "execution_count": 18
        }
      ]
    },
    {
      "cell_type": "code",
      "source": [
        "bitly['longitude'] #Verifying Longitude Output"
      ],
      "metadata": {
        "colab": {
          "base_uri": "https://localhost:8080/"
        },
        "id": "jT2qt1nWLjDc",
        "outputId": "a016cbc9-2306-4156-8e6d-99eba745204d"
      },
      "execution_count": 19,
      "outputs": [
        {
          "output_type": "execute_result",
          "data": {
            "text/plain": [
              "0     -70.954903\n",
              "1    -111.613297\n",
              "2     -77.043098\n",
              "3     -46.616699\n",
              "4     -71.714699\n",
              "5     -71.714699\n",
              "6      15.283300\n",
              "7            NaN\n",
              "8            NaN\n",
              "9            NaN\n",
              "10   -122.332603\n",
              "11    -77.092796\n",
              "Name: longitude, dtype: float64"
            ]
          },
          "metadata": {},
          "execution_count": 19
        }
      ]
    },
    {
      "cell_type": "markdown",
      "source": [
        "##**Copying `tz` into a new column `time_zone`**"
      ],
      "metadata": {
        "id": "hrCXwQUVOfw-"
      }
    },
    {
      "cell_type": "code",
      "source": [
        "bitly['time_zone'] = bitly['tz'].copy() #Taking a copy of 'tz' into a new column 'time_zone'"
      ],
      "metadata": {
        "id": "jwbTWi7GMYDW"
      },
      "execution_count": 20,
      "outputs": []
    },
    {
      "cell_type": "markdown",
      "source": [
        "##**Converting `t` and `hc` to new columns yet in a `timestamp` format**\n"
      ],
      "metadata": {
        "id": "0U30YlqhLifL"
      }
    },
    {
      "cell_type": "code",
      "source": [
        "bitly['time_in'] = bitly['t'].apply(pd.Timestamp)"
      ],
      "metadata": {
        "id": "5feIY9ShM6B2"
      },
      "execution_count": 21,
      "outputs": []
    },
    {
      "cell_type": "code",
      "source": [
        "bitly['time_out'] = bitly['hc'].apply(pd.Timestamp)"
      ],
      "metadata": {
        "id": "NJmmA2zt1HsG"
      },
      "execution_count": 22,
      "outputs": []
    },
    {
      "cell_type": "markdown",
      "source": [
        "###**Dropping unnecessary columns**"
      ],
      "metadata": {
        "id": "SRhbcEZJPTpQ"
      }
    },
    {
      "cell_type": "code",
      "source": [
        "bitly.drop(['a','c','nk','tz','gr','g','h','l','al','hh','r','u','t','hc','cy','ll'], axis = 1, inplace=True)"
      ],
      "metadata": {
        "id": "U_KFrpNLLO1N"
      },
      "execution_count": 23,
      "outputs": []
    },
    {
      "cell_type": "code",
      "source": [
        "bitly.dropna(inplace= True) #Handling null values"
      ],
      "metadata": {
        "id": "UCLQBT32QOM2"
      },
      "execution_count": 24,
      "outputs": []
    },
    {
      "cell_type": "code",
      "source": [
        "bitly #Validating the final result"
      ],
      "metadata": {
        "colab": {
          "base_uri": "https://localhost:8080/",
          "height": 551
        },
        "id": "bBt6LjXBQxTB",
        "outputId": "e1cedc9d-0275-4ea6-9540-0d8fa5d3ab4c"
      },
      "execution_count": 25,
      "outputs": [
        {
          "output_type": "execute_result",
          "data": {
            "text/plain": [
              "   web_browser operating_sys               from_url                 to_url  \\\n",
              "0      Mozilla       Windows       www.facebook.com   www.ncbi.nlm.nih.gov   \n",
              "1   GoogleMaps    GoogleMaps       www.AwareMap.com   www.monroecounty.gov   \n",
              "2      Mozilla       Windows                   t.co       boxer.senate.gov   \n",
              "3      Mozilla     Macintosh                 direct          apod.nasa.gov   \n",
              "4      Mozilla       Windows  www.shrewsbury-ma.gov  www.shrewsbury-ma.gov   \n",
              "5      Mozilla       Windows  www.shrewsbury-ma.gov  www.shrewsbury-ma.gov   \n",
              "6      Mozilla       Windows    plus.url.google.com           www.nasa.gov   \n",
              "10     Mozilla       Windows                 direct         www.nysdot.gov   \n",
              "11     Mozilla     Macintosh                   t.co    oversight.house.gov   \n",
              "\n",
              "          city   Latitude   longitude            time_zone  \\\n",
              "0      Danvers  42.576698  -70.954903     America/New_York   \n",
              "1        Provo  40.218102 -111.613297       America/Denver   \n",
              "2   Washington  38.900700  -77.043098     America/New_York   \n",
              "3         Braz -23.549999  -46.616699    America/Sao_Paulo   \n",
              "4   Shrewsbury  42.286499  -71.714699     America/New_York   \n",
              "5   Shrewsbury  42.286499  -71.714699     America/New_York   \n",
              "6        Luban  51.116699   15.283300        Europe/Warsaw   \n",
              "10     Seattle  47.595100 -122.332603  America/Los_Angeles   \n",
              "11  Washington  38.937599  -77.092796     America/New_York   \n",
              "\n",
              "                         time_in                      time_out  \n",
              "0  1970-01-01 00:00:01.333307030 1970-01-01 00:00:01.333307037  \n",
              "1  1970-01-01 00:00:01.331923249 1970-01-01 00:00:01.308262393  \n",
              "2  1970-01-01 00:00:01.333407030 1970-01-01 00:00:01.333407035  \n",
              "3  1970-01-01 00:00:01.333507030 1970-01-01 00:00:01.333507044  \n",
              "4  1970-01-01 00:00:01.333607030 1970-01-01 00:00:01.333607039  \n",
              "5  1970-01-01 00:00:01.333707030 1970-01-01 00:00:01.333707048  \n",
              "6  1970-01-01 00:00:01.333807030 1970-01-01 00:00:01.333807040  \n",
              "10 1970-01-01 00:00:01.334107030 1970-01-01 00:00:01.334107040  \n",
              "11 1970-01-01 00:00:01.334207040 1970-01-01 00:00:01.334207043  "
            ],
            "text/html": [
              "\n",
              "  <div id=\"df-a6f7b0f0-61fb-4cd6-90c4-f9281f4f1a4b\">\n",
              "    <div class=\"colab-df-container\">\n",
              "      <div>\n",
              "<style scoped>\n",
              "    .dataframe tbody tr th:only-of-type {\n",
              "        vertical-align: middle;\n",
              "    }\n",
              "\n",
              "    .dataframe tbody tr th {\n",
              "        vertical-align: top;\n",
              "    }\n",
              "\n",
              "    .dataframe thead th {\n",
              "        text-align: right;\n",
              "    }\n",
              "</style>\n",
              "<table border=\"1\" class=\"dataframe\">\n",
              "  <thead>\n",
              "    <tr style=\"text-align: right;\">\n",
              "      <th></th>\n",
              "      <th>web_browser</th>\n",
              "      <th>operating_sys</th>\n",
              "      <th>from_url</th>\n",
              "      <th>to_url</th>\n",
              "      <th>city</th>\n",
              "      <th>Latitude</th>\n",
              "      <th>longitude</th>\n",
              "      <th>time_zone</th>\n",
              "      <th>time_in</th>\n",
              "      <th>time_out</th>\n",
              "    </tr>\n",
              "  </thead>\n",
              "  <tbody>\n",
              "    <tr>\n",
              "      <th>0</th>\n",
              "      <td>Mozilla</td>\n",
              "      <td>Windows</td>\n",
              "      <td>www.facebook.com</td>\n",
              "      <td>www.ncbi.nlm.nih.gov</td>\n",
              "      <td>Danvers</td>\n",
              "      <td>42.576698</td>\n",
              "      <td>-70.954903</td>\n",
              "      <td>America/New_York</td>\n",
              "      <td>1970-01-01 00:00:01.333307030</td>\n",
              "      <td>1970-01-01 00:00:01.333307037</td>\n",
              "    </tr>\n",
              "    <tr>\n",
              "      <th>1</th>\n",
              "      <td>GoogleMaps</td>\n",
              "      <td>GoogleMaps</td>\n",
              "      <td>www.AwareMap.com</td>\n",
              "      <td>www.monroecounty.gov</td>\n",
              "      <td>Provo</td>\n",
              "      <td>40.218102</td>\n",
              "      <td>-111.613297</td>\n",
              "      <td>America/Denver</td>\n",
              "      <td>1970-01-01 00:00:01.331923249</td>\n",
              "      <td>1970-01-01 00:00:01.308262393</td>\n",
              "    </tr>\n",
              "    <tr>\n",
              "      <th>2</th>\n",
              "      <td>Mozilla</td>\n",
              "      <td>Windows</td>\n",
              "      <td>t.co</td>\n",
              "      <td>boxer.senate.gov</td>\n",
              "      <td>Washington</td>\n",
              "      <td>38.900700</td>\n",
              "      <td>-77.043098</td>\n",
              "      <td>America/New_York</td>\n",
              "      <td>1970-01-01 00:00:01.333407030</td>\n",
              "      <td>1970-01-01 00:00:01.333407035</td>\n",
              "    </tr>\n",
              "    <tr>\n",
              "      <th>3</th>\n",
              "      <td>Mozilla</td>\n",
              "      <td>Macintosh</td>\n",
              "      <td>direct</td>\n",
              "      <td>apod.nasa.gov</td>\n",
              "      <td>Braz</td>\n",
              "      <td>-23.549999</td>\n",
              "      <td>-46.616699</td>\n",
              "      <td>America/Sao_Paulo</td>\n",
              "      <td>1970-01-01 00:00:01.333507030</td>\n",
              "      <td>1970-01-01 00:00:01.333507044</td>\n",
              "    </tr>\n",
              "    <tr>\n",
              "      <th>4</th>\n",
              "      <td>Mozilla</td>\n",
              "      <td>Windows</td>\n",
              "      <td>www.shrewsbury-ma.gov</td>\n",
              "      <td>www.shrewsbury-ma.gov</td>\n",
              "      <td>Shrewsbury</td>\n",
              "      <td>42.286499</td>\n",
              "      <td>-71.714699</td>\n",
              "      <td>America/New_York</td>\n",
              "      <td>1970-01-01 00:00:01.333607030</td>\n",
              "      <td>1970-01-01 00:00:01.333607039</td>\n",
              "    </tr>\n",
              "    <tr>\n",
              "      <th>5</th>\n",
              "      <td>Mozilla</td>\n",
              "      <td>Windows</td>\n",
              "      <td>www.shrewsbury-ma.gov</td>\n",
              "      <td>www.shrewsbury-ma.gov</td>\n",
              "      <td>Shrewsbury</td>\n",
              "      <td>42.286499</td>\n",
              "      <td>-71.714699</td>\n",
              "      <td>America/New_York</td>\n",
              "      <td>1970-01-01 00:00:01.333707030</td>\n",
              "      <td>1970-01-01 00:00:01.333707048</td>\n",
              "    </tr>\n",
              "    <tr>\n",
              "      <th>6</th>\n",
              "      <td>Mozilla</td>\n",
              "      <td>Windows</td>\n",
              "      <td>plus.url.google.com</td>\n",
              "      <td>www.nasa.gov</td>\n",
              "      <td>Luban</td>\n",
              "      <td>51.116699</td>\n",
              "      <td>15.283300</td>\n",
              "      <td>Europe/Warsaw</td>\n",
              "      <td>1970-01-01 00:00:01.333807030</td>\n",
              "      <td>1970-01-01 00:00:01.333807040</td>\n",
              "    </tr>\n",
              "    <tr>\n",
              "      <th>10</th>\n",
              "      <td>Mozilla</td>\n",
              "      <td>Windows</td>\n",
              "      <td>direct</td>\n",
              "      <td>www.nysdot.gov</td>\n",
              "      <td>Seattle</td>\n",
              "      <td>47.595100</td>\n",
              "      <td>-122.332603</td>\n",
              "      <td>America/Los_Angeles</td>\n",
              "      <td>1970-01-01 00:00:01.334107030</td>\n",
              "      <td>1970-01-01 00:00:01.334107040</td>\n",
              "    </tr>\n",
              "    <tr>\n",
              "      <th>11</th>\n",
              "      <td>Mozilla</td>\n",
              "      <td>Macintosh</td>\n",
              "      <td>t.co</td>\n",
              "      <td>oversight.house.gov</td>\n",
              "      <td>Washington</td>\n",
              "      <td>38.937599</td>\n",
              "      <td>-77.092796</td>\n",
              "      <td>America/New_York</td>\n",
              "      <td>1970-01-01 00:00:01.334207040</td>\n",
              "      <td>1970-01-01 00:00:01.334207043</td>\n",
              "    </tr>\n",
              "  </tbody>\n",
              "</table>\n",
              "</div>\n",
              "      <button class=\"colab-df-convert\" onclick=\"convertToInteractive('df-a6f7b0f0-61fb-4cd6-90c4-f9281f4f1a4b')\"\n",
              "              title=\"Convert this dataframe to an interactive table.\"\n",
              "              style=\"display:none;\">\n",
              "        \n",
              "  <svg xmlns=\"http://www.w3.org/2000/svg\" height=\"24px\"viewBox=\"0 0 24 24\"\n",
              "       width=\"24px\">\n",
              "    <path d=\"M0 0h24v24H0V0z\" fill=\"none\"/>\n",
              "    <path d=\"M18.56 5.44l.94 2.06.94-2.06 2.06-.94-2.06-.94-.94-2.06-.94 2.06-2.06.94zm-11 1L8.5 8.5l.94-2.06 2.06-.94-2.06-.94L8.5 2.5l-.94 2.06-2.06.94zm10 10l.94 2.06.94-2.06 2.06-.94-2.06-.94-.94-2.06-.94 2.06-2.06.94z\"/><path d=\"M17.41 7.96l-1.37-1.37c-.4-.4-.92-.59-1.43-.59-.52 0-1.04.2-1.43.59L10.3 9.45l-7.72 7.72c-.78.78-.78 2.05 0 2.83L4 21.41c.39.39.9.59 1.41.59.51 0 1.02-.2 1.41-.59l7.78-7.78 2.81-2.81c.8-.78.8-2.07 0-2.86zM5.41 20L4 18.59l7.72-7.72 1.47 1.35L5.41 20z\"/>\n",
              "  </svg>\n",
              "      </button>\n",
              "      \n",
              "  <style>\n",
              "    .colab-df-container {\n",
              "      display:flex;\n",
              "      flex-wrap:wrap;\n",
              "      gap: 12px;\n",
              "    }\n",
              "\n",
              "    .colab-df-convert {\n",
              "      background-color: #E8F0FE;\n",
              "      border: none;\n",
              "      border-radius: 50%;\n",
              "      cursor: pointer;\n",
              "      display: none;\n",
              "      fill: #1967D2;\n",
              "      height: 32px;\n",
              "      padding: 0 0 0 0;\n",
              "      width: 32px;\n",
              "    }\n",
              "\n",
              "    .colab-df-convert:hover {\n",
              "      background-color: #E2EBFA;\n",
              "      box-shadow: 0px 1px 2px rgba(60, 64, 67, 0.3), 0px 1px 3px 1px rgba(60, 64, 67, 0.15);\n",
              "      fill: #174EA6;\n",
              "    }\n",
              "\n",
              "    [theme=dark] .colab-df-convert {\n",
              "      background-color: #3B4455;\n",
              "      fill: #D2E3FC;\n",
              "    }\n",
              "\n",
              "    [theme=dark] .colab-df-convert:hover {\n",
              "      background-color: #434B5C;\n",
              "      box-shadow: 0px 1px 3px 1px rgba(0, 0, 0, 0.15);\n",
              "      filter: drop-shadow(0px 1px 2px rgba(0, 0, 0, 0.3));\n",
              "      fill: #FFFFFF;\n",
              "    }\n",
              "  </style>\n",
              "\n",
              "      <script>\n",
              "        const buttonEl =\n",
              "          document.querySelector('#df-a6f7b0f0-61fb-4cd6-90c4-f9281f4f1a4b button.colab-df-convert');\n",
              "        buttonEl.style.display =\n",
              "          google.colab.kernel.accessAllowed ? 'block' : 'none';\n",
              "\n",
              "        async function convertToInteractive(key) {\n",
              "          const element = document.querySelector('#df-a6f7b0f0-61fb-4cd6-90c4-f9281f4f1a4b');\n",
              "          const dataTable =\n",
              "            await google.colab.kernel.invokeFunction('convertToInteractive',\n",
              "                                                     [key], {});\n",
              "          if (!dataTable) return;\n",
              "\n",
              "          const docLinkHtml = 'Like what you see? Visit the ' +\n",
              "            '<a target=\"_blank\" href=https://colab.research.google.com/notebooks/data_table.ipynb>data table notebook</a>'\n",
              "            + ' to learn more about interactive tables.';\n",
              "          element.innerHTML = '';\n",
              "          dataTable['output_type'] = 'display_data';\n",
              "          await google.colab.output.renderOutput(dataTable, element);\n",
              "          const docLink = document.createElement('div');\n",
              "          docLink.innerHTML = docLinkHtml;\n",
              "          element.appendChild(docLink);\n",
              "        }\n",
              "      </script>\n",
              "    </div>\n",
              "  </div>\n",
              "  "
            ]
          },
          "metadata": {},
          "execution_count": 25
        }
      ]
    },
    {
      "cell_type": "markdown",
      "source": [
        "###**Exporting `DataFrame` as `CSV`**"
      ],
      "metadata": {
        "id": "NtDkBB5SRPu1"
      }
    },
    {
      "cell_type": "code",
      "source": [
        "bitly.to_csv('bitly_data_transformation.csv')"
      ],
      "metadata": {
        "id": "iR202AZvQ6xR"
      },
      "execution_count": 26,
      "outputs": []
    }
  ]
}